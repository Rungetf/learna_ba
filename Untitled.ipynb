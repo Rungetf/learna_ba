{
 "cells": [
  {
   "cell_type": "markdown",
   "metadata": {},
   "source": [
    "# Bachelor thesis"
   ]
  },
  {
   "cell_type": "markdown",
   "metadata": {},
   "source": [
    "## RNA Design with Multiple Constraints\n",
    "\n",
    "### GC Content Control\n",
    "\n",
    "The GC-Content of an RNA molecule has crucial effects on the function of the molecule [citation needed].\n",
    "Besides the structural constraint, we would like to control the GC-Content as well during our design process. Therefore, we follow three different approaches, or combinations of approaches:"
   ]
  },
  {
   "cell_type": "markdown",
   "metadata": {},
   "source": [
    "## GC-Control via Reward Formulation\n",
    "\n",
    "Including the GC-Content into our reward formulation to optimize for both, structural and gc-content constraints.\n",
    "\n",
    "$$ R_T = (1 - D_H(fold(\\phi), \\omega) - \\Delta_{GC})^{\\alpha} $$"
   ]
  },
  {
   "cell_type": "markdown",
   "metadata": {},
   "source": [
    "## GC-Control as postprocessing step\n",
    "\n",
    "GC-Content is only controlled as a postprocessing step:\n",
    "\n",
    "1. Change gc pairs to au pairs (CG to UA) after structure is correct\n",
    "2. Change single bases if needed afterwards\n",
    "3. If the gc-content constraint is not satisfied, let the agent predict again until a better solution was found"
   ]
  },
  {
   "cell_type": "markdown",
   "metadata": {},
   "source": [
    "## GC-Control via Local Improvement Step\n",
    "\n",
    "GC-Content control is included into the local improvement step:\n",
    "\n",
    "- find best solution by changing local bases and computing the best GC-content at the same time"
   ]
  },
  {
   "cell_type": "markdown",
   "metadata": {},
   "source": []
  }
 ],
 "metadata": {
  "kernelspec": {
   "display_name": "Python 3",
   "language": "python",
   "name": "python3"
  },
  "language_info": {
   "codemirror_mode": {
    "name": "ipython",
    "version": 3
   },
   "file_extension": ".py",
   "mimetype": "text/x-python",
   "name": "python",
   "nbconvert_exporter": "python",
   "pygments_lexer": "ipython3",
   "version": "3.7.3"
  }
 },
 "nbformat": 4,
 "nbformat_minor": 2
}
